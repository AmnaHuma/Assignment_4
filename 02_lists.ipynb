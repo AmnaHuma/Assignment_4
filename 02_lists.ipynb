{
  "cells": [
    {
      "cell_type": "markdown",
      "metadata": {
        "id": "view-in-github",
        "colab_type": "text"
      },
      "source": [
        "<a href=\"https://colab.research.google.com/github/AmnaHuma/Assignment_4/blob/main/02_lists.ipynb\" target=\"_parent\"><img src=\"https://colab.research.google.com/assets/colab-badge.svg\" alt=\"Open In Colab\"/></a>"
      ]
    },
    {
      "cell_type": "code",
      "execution_count": null,
      "metadata": {
        "colab": {
          "base_uri": "https://localhost:8080/"
        },
        "id": "MKuZQ52BvqjQ",
        "outputId": "c14ad1ef-2cf1-434d-b1eb-e8cdeda5094d"
      },
      "outputs": [
        {
          "name": "stdout",
          "output_type": "stream",
          "text": [
            "01_add_many_number\n",
            "1\n"
          ]
        }
      ],
      "source": [
        "print(\"01_add_many_number\")\n",
        "\n",
        "def add_number(numbers)->int:\n",
        "  num:int = 0\n",
        "  for i in numbers:\n",
        "    num += i\n",
        "    return num\n",
        "\n",
        "def main():\n",
        "  numbers:list[int] = [1,2,3,4,5]\n",
        "  sum = add_number(numbers)\n",
        "  print(sum)\n",
        "\n",
        "if __name__ == \"__main__\":\n",
        "   main()"
      ]
    },
    {
      "cell_type": "code",
      "execution_count": null,
      "metadata": {
        "colab": {
          "base_uri": "https://localhost:8080/"
        },
        "id": "H-xRJVJywFgG",
        "outputId": "9d390210-9012-4e17-cb3d-f9259c5581ba"
      },
      "outputs": [
        {
          "name": "stdout",
          "output_type": "stream",
          "text": [
            "02_double_list\n",
            "[2, 4, 6, 8, 10]\n"
          ]
        }
      ],
      "source": [
        "print(\"02_double_list\")\n",
        "\n",
        "def main():\n",
        "  numbers:list[int] = [1,2,3,4,5]\n",
        "  for i in range(len(numbers)):\n",
        "    index = numbers[i]\n",
        "    numbers[i] = index * 2\n",
        "  print(numbers)\n",
        "\n",
        "if __name__ == \"__main__\":\n",
        "  main()\n"
      ]
    },
    {
      "cell_type": "code",
      "execution_count": null,
      "metadata": {
        "colab": {
          "base_uri": "https://localhost:8080/"
        },
        "id": "YLteVxrEwN3M",
        "outputId": "f75bca83-ed36-4082-b5e0-195626d03d49"
      },
      "outputs": [
        {
          "name": "stdout",
          "output_type": "stream",
          "text": [
            "04_flowing_with_data_structures\n",
            "Enter a message to copy. hello summer\n",
            "Before list:  <class 'list'>\n",
            "After lst:  ['hello summer', 'hello summer', 'hello summer']\n"
          ]
        }
      ],
      "source": [
        "print(\"04_flowing_with_data_structures\")\n",
        "\n",
        "def add_three_copies(lst,data):\n",
        "  for i in range(3):\n",
        "    lst.append(data)\n",
        "\n",
        "def main():\n",
        "  message = input(\"Enter a message to copy. \")\n",
        "  lst = []\n",
        "  print(\"Before list: \",list)\n",
        "  add_three_copies(lst,message)\n",
        "  print(\"After lst: \",lst)\n",
        "\n",
        "if __name__ == \"__main__\":\n",
        "  main()"
      ]
    },
    {
      "cell_type": "code",
      "execution_count": null,
      "metadata": {
        "colab": {
          "base_uri": "https://localhost:8080/"
        },
        "id": "xdFOVDAiwW9D",
        "outputId": "bff7aaf3-4ba7-4d12-8c1e-e6ef9a7144b9"
      },
      "outputs": [
        {
          "name": "stdout",
          "output_type": "stream",
          "text": [
            "05_get_first_element\n",
            "Enter an element to add to the list. b\n",
            "Enter an element to add to the list. n\n",
            "b\n"
          ]
        }
      ],
      "source": [
        "print(\"05_get_first_element\")\n",
        "\n",
        "def get_first_element(lst):\n",
        "  print(lst[0])\n",
        "\n",
        "def get_lst():\n",
        "  lst = []\n",
        "  elem:str = input(\"Enter an element to add to the list. \")\n",
        "  while elem != \"\":\n",
        "    lst.append(elem)\n",
        "    elem = input(\"Enter an element to add to the list. \")\n",
        "    return lst\n",
        "\n",
        "\n",
        "def main():\n",
        "  lst = get_lst()\n",
        "  get_first_element(lst)\n",
        "\n",
        "if __name__ == \"__main__\":\n",
        "  main()\n",
        "\n",
        "\n"
      ]
    },
    {
      "cell_type": "code",
      "execution_count": null,
      "metadata": {
        "colab": {
          "base_uri": "https://localhost:8080/"
        },
        "id": "ibzFrPbswhsy",
        "outputId": "4fe0166a-515b-42cf-8323-6bf87009521d"
      },
      "outputs": [
        {
          "name": "stdout",
          "output_type": "stream",
          "text": [
            "06_get_last_element\n",
            "Enter an element to add to the list. r\n",
            "Enter an element to add to the list. n\n",
            "list[-1]\n"
          ]
        }
      ],
      "source": [
        "print(\"06_get_last_element\")\n",
        "\n",
        "def get_last_element(lst):\n",
        "  print(list[-1])\n",
        "\n",
        "def get_lst():\n",
        "  lst = []\n",
        "  elem:str = input(\"Enter an element to add to the list. \")\n",
        "  while elem != \"\":\n",
        "    lst.append(elem)\n",
        "    elem = input(\"Enter an element to add to the list. \")\n",
        "    return lst\n",
        "\n",
        "\n",
        "def main():\n",
        "  lst = get_lst()\n",
        "  get_last_element(lst)\n",
        "\n",
        "if __name__ == \"__main__\":\n",
        "  main()\n",
        "\n",
        "\n"
      ]
    },
    {
      "cell_type": "code",
      "execution_count": null,
      "metadata": {
        "colab": {
          "background_save": true,
          "base_uri": "https://localhost:8080/"
        },
        "id": "2rPiHJmlwn8F",
        "outputId": "3bed6bd3-8d6a-425f-d857-840e8f46ed26"
      },
      "outputs": [
        {
          "name": "stdout",
          "output_type": "stream",
          "text": [
            "07_get_list\n",
            "Here's the list:  ['amna']\n",
            "Here's the list:  ['amna', 'huma']\n",
            "Here's the list:  ['amna', 'huma', 'mahnoor']\n",
            "Here's the list:  ['amna', 'huma', 'mahnoor', 'minha']\n",
            "Here's the list:  ['amna', 'huma', 'mahnoor', 'minha', 'saluja']\n",
            "Here's the list:  ['amna', 'huma', 'mahnoor', 'minha', 'saluja', 'mehreen']\n"
          ]
        }
      ],
      "source": [
        "print(\"07_get_list\")\n",
        "\n",
        "def main():\n",
        "  lst = []\n",
        "  val = input(\"Enter a value to add to the list. \")\n",
        "  while val:\n",
        "    lst.append(val)\n",
        "    val =input(\"Enter a value to add to the list. \")\n",
        "    print(\"Here's the list: \",lst)\n",
        "\n",
        "if __name__ == \"__main__\":\n",
        "  main()"
      ]
    },
    {
      "cell_type": "code",
      "execution_count": null,
      "metadata": {
        "id": "tTpBaOLaw5h6",
        "colab": {
          "base_uri": "https://localhost:8080/"
        },
        "outputId": "758d6ca1-826c-4eb3-c842-ab55a23f6bb9"
      },
      "outputs": [
        {
          "name": "stdout",
          "output_type": "stream",
          "text": [
            "08_shorten\n",
            "Enter an element to add to the list: amna\n",
            "Enter an element to add to the list: huma\n",
            "Enter an element to add to the list: saluja\n",
            "Enter an element to add to the list: zainab\n",
            "Enter an element to add to the list: nazish\n",
            "Enter an element to add to the list: n\n",
            "Enter an element to add to the list: z\n"
          ]
        }
      ],
      "source": [
        "print(\"08_shorten\")\n",
        "\n",
        "MAX_LENGTH:int = 3\n",
        "def shorten(lst):\n",
        "  while len(lst) >= MAX_LENGTH:\n",
        "    last_element = lst.pop()\n",
        "    print(last_element)\n",
        "\n",
        "def get_lst():\n",
        "  lst = []\n",
        "  element = input(\"Enter an element to add to the list: \")\n",
        "  while element != \"\":\n",
        "    lst.append(element)\n",
        "    element = input(\"Enter an element to add to the list: \")\n",
        "  return lst\n",
        "\n",
        "def main():\n",
        "  lst = get_lst()\n",
        "  shorten(lst)\n",
        "\n",
        "if __name__ == \"__main__\":\n",
        "  main()\n",
        "\n"
      ]
    }
  ],
  "metadata": {
    "colab": {
      "provenance": [],
      "authorship_tag": "ABX9TyNgXiU4XEYoBK2IRRGXHsV/",
      "include_colab_link": true
    },
    "kernelspec": {
      "display_name": "Python 3",
      "name": "python3"
    },
    "language_info": {
      "name": "python"
    }
  },
  "nbformat": 4,
  "nbformat_minor": 0
}